{
 "cells": [
  {
   "cell_type": "code",
   "execution_count": 16,
   "metadata": {},
   "outputs": [],
   "source": [
    "import pandas as pd"
   ]
  },
  {
   "cell_type": "code",
   "execution_count": 17,
   "metadata": {},
   "outputs": [
    {
     "data": {
      "text/plain": [
       "(2888, 2031)"
      ]
     },
     "execution_count": 17,
     "metadata": {},
     "output_type": "execute_result"
    }
   ],
   "source": [
    "aug_train = pd.read_csv('../data/aug_train.csv')\n",
    "train = pd.read_csv('../data/train.csv')\n",
    "train['paragraph'].apply(len).describe()\n",
    "\n",
    "len(aug_train), len(train)"
   ]
  },
  {
   "cell_type": "code",
   "execution_count": 18,
   "metadata": {},
   "outputs": [
    {
     "name": "stdout",
     "output_type": "stream",
     "text": [
      "792 2096\n"
     ]
    }
   ],
   "source": [
    "from ast import literal_eval\n",
    "\n",
    "choices_len = []\n",
    "for _, row in aug_train.iterrows():\n",
    "    problems = literal_eval(row['problems'])\n",
    "    choices_len.append(len(problems['choices']))\n",
    "\n",
    "s4, s5 = 0, 0\n",
    "for i in choices_len:\n",
    "    if i == 4:\n",
    "        s4 += 1\n",
    "    else:\n",
    "        s5 += 1\n",
    "\n",
    "print(s4, s5)"
   ]
  },
  {
   "cell_type": "code",
   "execution_count": 20,
   "metadata": {},
   "outputs": [],
   "source": [
    "train_cleaned_short_paragraph = train[train['paragraph'].apply(len) > 100]\n",
    "train_cleaned_short_paragraph.to_csv('../data/train_cleaned_short_paragraph.csv')"
   ]
  },
  {
   "cell_type": "code",
   "execution_count": 21,
   "metadata": {},
   "outputs": [],
   "source": [
    "aug_train_cleaned_117 = aug_train[aug_train['paragraph'].apply(len) > 117]\n",
    "aug_train_cleaned_117.to_csv('../data/aug_train_cleaned_117.csv')"
   ]
  },
  {
   "cell_type": "code",
   "execution_count": 23,
   "metadata": {},
   "outputs": [
    {
     "data": {
      "text/plain": [
       "count    2888.000000\n",
       "mean      790.684211\n",
       "std       457.772386\n",
       "min        15.000000\n",
       "25%       521.000000\n",
       "50%       751.000000\n",
       "75%      1064.000000\n",
       "max      2017.000000\n",
       "Name: paragraph, dtype: float64"
      ]
     },
     "execution_count": 23,
     "metadata": {},
     "output_type": "execute_result"
    }
   ],
   "source": [
    "aug_train['paragraph'].apply(len).describe()"
   ]
  },
  {
   "cell_type": "code",
   "execution_count": 24,
   "metadata": {},
   "outputs": [
    {
     "data": {
      "text/plain": [
       "count    723.000000\n",
       "mean     222.150761\n",
       "std      168.410175\n",
       "min       15.000000\n",
       "25%       67.000000\n",
       "50%      160.000000\n",
       "75%      376.000000\n",
       "max      521.000000\n",
       "Name: paragraph, dtype: float64"
      ]
     },
     "execution_count": 24,
     "metadata": {},
     "output_type": "execute_result"
    }
   ],
   "source": [
    "less521 = aug_train[aug_train['paragraph'].apply(len) <= 521]\n",
    "less521['paragraph'].apply(len).describe()"
   ]
  },
  {
   "cell_type": "code",
   "execution_count": 71,
   "metadata": {},
   "outputs": [],
   "source": [
    "aug_train_cleaned_160 = aug_train[aug_train['paragraph'].apply(len) > 160]\n",
    "aug_train_cleaned_160.to_csv('../data/aug_train_cleaned_160.csv')"
   ]
  }
 ],
 "metadata": {
  "kernelspec": {
   "display_name": "base",
   "language": "python",
   "name": "python3"
  },
  "language_info": {
   "codemirror_mode": {
    "name": "ipython",
    "version": 3
   },
   "file_extension": ".py",
   "mimetype": "text/x-python",
   "name": "python",
   "nbconvert_exporter": "python",
   "pygments_lexer": "ipython3",
   "version": "3.10.13"
  }
 },
 "nbformat": 4,
 "nbformat_minor": 2
}
